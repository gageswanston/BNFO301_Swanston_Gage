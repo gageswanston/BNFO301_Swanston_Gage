{
  "nbformat": 4,
  "nbformat_minor": 0,
  "metadata": {
    "colab": {
      "provenance": [],
      "include_colab_link": true
    },
    "kernelspec": {
      "name": "python3",
      "display_name": "Python 3"
    },
    "language_info": {
      "name": "python"
    }
  },
  "cells": [
    {
      "cell_type": "markdown",
      "metadata": {
        "id": "view-in-github",
        "colab_type": "text"
      },
      "source": [
        "<a href=\"https://colab.research.google.com/github/gageswanston/BNFO301_Swanston_Gage/blob/main/BNFO301_Lab7_3_Student_Version2.ipynb\" target=\"_parent\"><img src=\"https://colab.research.google.com/assets/colab-badge.svg\" alt=\"Open In Colab\"/></a>"
      ]
    },
    {
      "cell_type": "markdown",
      "source": [
        "##Lab 7. Phylogenetic tree inference using distance matrix methods.\n",
        "\n",
        "In this three part lab, you will infer a phylogenetic tree using a Distance Matrix Method.  This example uses one of a class of methods, which are statistically consistent, but sensitive to long-branch attraction.  In order to infer a tree, we must take several step, starting with sequences that have been aligned and are of equal length.  Next, we must find all pairwise distances and correct the distances using one of many models of subsitution.  Finally, we need to group sequence pairs and re-calculate distances, until all pairs have been grouped.  This grouping determines the order the tree, represented as a newick string.\n",
        "\n",
        "##Part 1. 10 points - March 14\n",
        "\n",
        "Problem 1.1 create a function to return P-distance\n",
        "\n",
        "Problem 1.2 create a function to return corrected P-distance using the Jukes-Cantor model.\n",
        "\n",
        "Problem 1.3 create a function to build a pairwise distance matrix\n",
        "\n",
        "Problem 1.4 create a function to find the pair of sequences with smallest distance, given the distance matrix from part 1.3\n",
        "\n",
        "##Part 2. 10 points - March 21\n",
        "\n",
        "Problem 2.1 create a function to merge the most similar sequences based on the corrected P-distances and shrink the matrix\n",
        "\n",
        "##Part 3. 10 points - March 28\n",
        "\n",
        "Problem 3.1 create a function to infer a phylogenetic tree\n",
        "\n",
        "Problem 3.2 create a function to read in a sequence alignment in phylip format\n",
        "\n",
        "Problem 3.3 use functions created in parts 1 and 2 to infer a phylogenetic tree given the data provided in the phylip file\n",
        "\n",
        "Problem 3.4 Answer questions about this tree"
      ],
      "metadata": {
        "id": "y89ThmMC8vIl"
      }
    },
    {
      "cell_type": "code",
      "execution_count": 1,
      "metadata": {
        "id": "azPwaTFL8sRq"
      },
      "outputs": [],
      "source": [
        "import math"
      ]
    },
    {
      "cell_type": "markdown",
      "source": [
        "Problem 1.1 Create function to calculate a P-distance given two sequences"
      ],
      "metadata": {
        "id": "B7SNPmSI88db"
      }
    },
    {
      "cell_type": "code",
      "source": [
        "#####################\n",
        "#\n",
        "#create a definition called \"PDistance\" that returns an uncorrected P-distance given two sequences\n",
        "#your function should first check that sequences are of the same length, else return helpful error message (use keyword assert)\n",
        "#recall that P-distance is the Hamming-distance / length of the alignment\n",
        "#\n",
        "#####################\n",
        "\n",
        "def PDistance(x, y):\n",
        "\tassert len(x) == len(y), 'sequences must be of equal length'\n",
        "\tcounter = 0.0\n",
        "\tfor i in range(len(x)):\n",
        "\t\tif (x[i] != y[i]):\n",
        "\t\t\tcounter += 1\n",
        "\tPdist = counter/len(x)\n",
        "\treturn Pdist\n",
        "\n",
        "#####################\n",
        "#\n",
        "#use these two sequences to test your function;\n",
        "#P-distance = 0.2\n",
        "#\n",
        "######################\n",
        "\n",
        "seq1a = \"TATAGTAAAA\"\n",
        "seq2a = \"TATAGTATTA\"\n",
        "Dist_Problem1_1 = PDistance(seq1a, seq2a)\n",
        "print(Dist_Problem1_1)"
      ],
      "metadata": {
        "colab": {
          "base_uri": "https://localhost:8080/"
        },
        "id": "NDd8qvMZ9D6A",
        "outputId": "b1c6e49f-39a7-4861-86b2-7f72f0d28e97"
      },
      "execution_count": 2,
      "outputs": [
        {
          "output_type": "stream",
          "name": "stdout",
          "text": [
            "0.2\n"
          ]
        }
      ]
    },
    {
      "cell_type": "markdown",
      "source": [
        "Problem 1.2. Create a function to correct the P-distance using the Jukes-Cantor model"
      ],
      "metadata": {
        "id": "q1ncczh_9Q4j"
      }
    },
    {
      "cell_type": "code",
      "source": [
        "#####################\n",
        "#\n",
        "#create a definition called \"JCdistance\" that returns a corrected P-distance given two sequences using the Jukes Cantor model\n",
        "#recal, Jukes Cantor was described in class is a simple correction of P-distance\n",
        "#Hint: use function created in problem 1.1, \"PDistance\", to simplfly your code\n",
        "#\n",
        "#####################\n",
        "\n",
        "def JCdistance(x, y):\n",
        "  uncorrectedDist = PDistance(x, y)\n",
        "  if (uncorrectedDist != 0):\n",
        "    correctdist = (-3/4)*math.log(1-(4/3)*uncorrectedDist)\n",
        "  else:\n",
        "    correctdist = 0.0\n",
        "  return (correctdist)\n",
        "\n",
        "#####################\n",
        "#\n",
        "#use these two sequences to test your function;\n",
        "#Corrected P-distance = 0.2326161962278796\n",
        "#\n",
        "######################\n",
        "\n",
        "seq1b = \"TATAGTTAAA\"\n",
        "seq2b = \"TATAGTTTTA\"\n",
        "JCdist_Problem1_2 = JCdistance(seq1b, seq2b)\n",
        "print(JCdist_Problem1_2)"
      ],
      "metadata": {
        "colab": {
          "base_uri": "https://localhost:8080/"
        },
        "id": "aUszJJQ49RxI",
        "outputId": "a37ca2c8-9bae-45cc-9247-5757a33a94de"
      },
      "execution_count": 3,
      "outputs": [
        {
          "output_type": "stream",
          "name": "stdout",
          "text": [
            "0.2326161962278796\n"
          ]
        }
      ]
    },
    {
      "cell_type": "markdown",
      "source": [
        "Problem 1.3. Create a function to store distances between sequence pairs as a multidimentionsal dictionary.  You are required to use the Jukes Cantor corrected P-distance when building the dictionary.\n",
        "\n"
      ],
      "metadata": {
        "id": "-vdH854092s9"
      }
    },
    {
      "cell_type": "code",
      "source": [
        "#####################\n",
        "#\n",
        "#create a definition called \"DistanceMatrix\" that returns a dictionary given a set of DNA or AA sequences\n",
        "#Input data: a dictionary containing sequences (values) and sequence names (keys)\n",
        "#Output data: nested dictionary discribing pairwise distances between sequence pairs. Note: you should include all comparisons, including to self\n",
        "#\n",
        "#####################\n",
        "\n",
        "def DistanceMatrix(sequences):\n",
        "\tmatrix = {}\n",
        "\tfor i in sequences.keys():\n",
        "\t\tif i not in matrix.keys():\n",
        "\t\t\tmatrix[i] = {}\n",
        "\t\tfor j in sequences.keys():\n",
        "\t\t\tmatrix[i][j] = JCdistance(sequences[i], sequences[j])\n",
        "\n",
        "\treturn matrix\n",
        "\n",
        "#####################\n",
        "#\n",
        "#use these sequences to test your function\n",
        "#expected result: {'seq1': {'seq1': 0.0, 'seq2': 0.2326161962278796, 'seq3': 0.3831192178244929, 'seq4': 0.2326161962278796}, 'seq2': {'seq1': 0.2326161962278796, 'seq2': 0.0, 'seq3': 0.3831192178244929, 'seq4': 0.0}, 'seq3': {'seq1': 0.3831192178244929, 'seq2': 0.3831192178244929, 'seq3': 0.0, 'seq4': 0.3831192178244929}, 'seq4': {'seq1': 0.2326161962278796, 'seq2': 0.0, 'seq3': 0.3831192178244929, 'seq4': 0.0}}\n",
        "#\n",
        "#####################\n",
        "\n",
        "SampleSeqDict = {'seq1': 'TATACTAAAA', 'seq2': 'TATACTAATT', 'seq3': 'TATAGTATTA', 'seq4': 'TATACTAATT'}\n",
        "Matrix_Problem1_3 = DistanceMatrix(SampleSeqDict)\n",
        "print(Matrix_Problem1_3)"
      ],
      "metadata": {
        "colab": {
          "base_uri": "https://localhost:8080/"
        },
        "id": "qX7R0W0N93bY",
        "outputId": "1605b18f-75c4-4c94-d132-b059a50fb3ad"
      },
      "execution_count": 4,
      "outputs": [
        {
          "output_type": "stream",
          "name": "stdout",
          "text": [
            "{'seq1': {'seq1': 0.0, 'seq2': 0.2326161962278796, 'seq3': 0.3831192178244929, 'seq4': 0.2326161962278796}, 'seq2': {'seq1': 0.2326161962278796, 'seq2': 0.0, 'seq3': 0.3831192178244929, 'seq4': 0.0}, 'seq3': {'seq1': 0.3831192178244929, 'seq2': 0.3831192178244929, 'seq3': 0.0, 'seq4': 0.3831192178244929}, 'seq4': {'seq1': 0.2326161962278796, 'seq2': 0.0, 'seq3': 0.3831192178244929, 'seq4': 0.0}}\n"
          ]
        }
      ]
    },
    {
      "cell_type": "markdown",
      "source": [
        "Problem 1.4. Create a function to find the most similar sequences, given the nested dictionary you created in the last problem."
      ],
      "metadata": {
        "id": "D-UwDybBAVF-"
      }
    },
    {
      "cell_type": "code",
      "source": [
        "#####################\n",
        "#\n",
        "#create a definition called \"GetMinDistance\" that returns name of two sequences that has the shortest distance\n",
        "#Note: avoid self comparisons when finding the shortest distance\n",
        "#\n",
        "#####################\n",
        "\n",
        "def GetMinDistance(matrix):\n",
        "\tlowest_val = float(\"inf\")\n",
        "\tlowest_i = \"\"\n",
        "\tlowest_j = \"\"\n",
        "\n",
        "\tfor i in matrix.keys():\n",
        "\t\tfor j in matrix.keys():\n",
        "\t\t\tif (matrix[i][j] < lowest_val) and (i != j):\n",
        "\t\t\t\tlowest_val = matrix[i][j]\n",
        "\t\t\t\tlowest_i = i\n",
        "\t\t\t\tlowest_j = j\n",
        "\n",
        "\treturn lowest_i, lowest_j\n",
        "\n",
        "#####################\n",
        "#\n",
        "#use these sequences to test your function, seq1 and seq2 are most similar within the test data\n",
        "#Expected result: seq1 and seq2\n",
        "#\n",
        "#####################\n",
        "\n",
        "SampleSeqDict = {'seq1': 'TATAGTATTA', 'seq2': 'TATAGTATTA', 'seq3': 'AATAGTATTA', 'seq4': 'TATACAATTA'}\n",
        "Matrix_Problem1_4 = DistanceMatrix(SampleSeqDict)\n",
        "i, j = GetMinDistance(Matrix_Problem1_4)\n",
        "print(i,j)"
      ],
      "metadata": {
        "colab": {
          "base_uri": "https://localhost:8080/"
        },
        "id": "41ye0QOyAf4a",
        "outputId": "2a6d6e30-3d24-47f1-ff00-ccfb1ed52796"
      },
      "execution_count": 5,
      "outputs": [
        {
          "output_type": "stream",
          "name": "stdout",
          "text": [
            "seq1 seq2\n"
          ]
        }
      ]
    },
    {
      "cell_type": "markdown",
      "source": [
        "Problem 2.1. Create a function to merge the closest neighbors and shrink the nested dictionary created in the previous meeting."
      ],
      "metadata": {
        "id": "A_246WdKCRqs"
      }
    },
    {
      "cell_type": "code",
      "source": [
        "#####################\n",
        "#\n",
        "#create a definition called \"ShrinkMatrix\" that will reduce a nested dictionary\n",
        "#\n",
        "#steps to complete to reduce the nested dictionary:\n",
        "#1. determine pair of labels to be grouped, based on similarity, use 'GetMinDistance' function created above\n",
        "#2. determine new label for grouped pair - Newick format - (A,B)\n",
        "#3. generate list of labels not being grouped, set of all labels - set of grouped pair\n",
        "#4. populate a new nested dictionary with known distances from original nested dictionary\n",
        "#5. add the new 'grouped taxa' to nested dictionary\n",
        "#6. populate the nested dictionary with averaged distances\n",
        "#\n",
        "#####################\n",
        "def ShrinkMatrix(matrix):\n",
        "\t#determine pair of labels to be grouped, based on similarity\n",
        "\tname1,name2 = GetMinDistance(matrix)\n",
        "\n",
        "\t#determine new label for grouped pair - Newick format\n",
        "\tnewLabel = \"({0},{1})\".format(name1, name2)\n",
        "\n",
        "\t#generate list of labels not being grouped, set of all labels - set of grouped pair\n",
        "\tnamelist = list(set(matrix.keys()).difference(set([name1, name2])))\n",
        "\n",
        "\t#fill in known distances\n",
        "\tnMatrix = {}\n",
        "\tfor first in namelist:\n",
        "\t\tif first not in nMatrix.keys():\n",
        "\t\t\tnMatrix[first] = {}\n",
        "\t\tfor second in namelist:\n",
        "\t\t\tnMatrix[first][second] = matrix[first][second]\n",
        "\n",
        "\t#add newLabel to nMatrix\n",
        "\tnMatrix[newLabel] = {}\n",
        "\n",
        "\t#fill in averaged distances\n",
        "\tfor other in namelist:\n",
        "\t\td1 = matrix[other][name1]\n",
        "\t\td2 = matrix[other][name2]\n",
        "\t\tavg = (d1 + d2) / 2.0\n",
        "\n",
        "\t\tnMatrix[newLabel][other] = avg\n",
        "\t\tnMatrix[other][newLabel] = avg\n",
        "\n",
        "\tnMatrix[newLabel][newLabel] = 0.0\n",
        "\n",
        "\treturn nMatrix\n",
        "\n",
        "\n",
        "#####################\n",
        "#\n",
        "#use these sequences to test your function,\n",
        "#Expected result: 'seq1' and 'seq2' should be grouped in the new dictionary\n",
        "#\n",
        "#####################\n",
        "\n",
        "SeqDict_Problem2_1 = {'seq1': 'TATAGTATTA', 'seq2': 'TATAGTATTA', 'seq3': 'AATAGTATTA', 'seq4': 'TATACAATTA'}\n",
        "Distances_Problem2_1 = DistanceMatrix(SeqDict_Problem2_1)\n",
        "Matrix_Problem2_1 = ShrinkMatrix(Distances_Problem2_1)\n",
        "print(Distances_Problem2_1)\n",
        "print(Matrix_Problem2_1)"
      ],
      "metadata": {
        "colab": {
          "base_uri": "https://localhost:8080/"
        },
        "id": "ob0OiRlMCbb1",
        "outputId": "d1d1e60f-116b-4ed0-ff0e-b66acf6fca56"
      },
      "execution_count": 6,
      "outputs": [
        {
          "output_type": "stream",
          "name": "stdout",
          "text": [
            "{'seq1': {'seq1': 0.0, 'seq2': 0.0, 'seq3': 0.10732563273050497, 'seq4': 0.2326161962278796}, 'seq2': {'seq1': 0.0, 'seq2': 0.0, 'seq3': 0.10732563273050497, 'seq4': 0.2326161962278796}, 'seq3': {'seq1': 0.10732563273050497, 'seq2': 0.10732563273050497, 'seq3': 0.0, 'seq4': 0.3831192178244929}, 'seq4': {'seq1': 0.2326161962278796, 'seq2': 0.2326161962278796, 'seq3': 0.3831192178244929, 'seq4': 0.0}}\n",
            "{'seq3': {'seq3': 0.0, 'seq4': 0.3831192178244929, '(seq1,seq2)': 0.10732563273050497}, 'seq4': {'seq3': 0.3831192178244929, 'seq4': 0.0, '(seq1,seq2)': 0.2326161962278796}, '(seq1,seq2)': {'seq3': 0.10732563273050497, 'seq4': 0.2326161962278796, '(seq1,seq2)': 0.0}}\n"
          ]
        }
      ]
    },
    {
      "cell_type": "markdown",
      "source": [
        "Problem 3.1. create a function to infer a phylogenetic tree using the distance matrix"
      ],
      "metadata": {
        "id": "LrU7aNKkDTLP"
      }
    },
    {
      "cell_type": "code",
      "source": [
        "#####################\n",
        "#\n",
        "#create a definition called \"ConstructPhylogeneticTree\" that will produce a newick string when provided a distance matrix\n",
        "#\n",
        "#####################\n",
        "def ConstructPhylogeneticTree(distance_matrix): #~\n",
        "  temp=distance_matrix\n",
        "  for i in range (len(distance_matrix.keys())-1):\n",
        "    temp = ShrinkMatrix(temp)\n",
        "  return(list(temp.keys())[0]+';')\n",
        "\n",
        "\n",
        "\n",
        "\n",
        "\n",
        "\n",
        "\n",
        "\n",
        "#####################\n",
        "#\n",
        "#use these sequences to test your function\n",
        "#Expected result: (seq4,(seq3,(seq1,seq2)));\n",
        "#\n",
        "#####################\n",
        "\n",
        "SeqDictProblem3_1 = {'seq1': 'TATAGTATTA', 'seq2': 'TATAGTATTA', 'seq3': 'AATAGTATTA', 'seq4': 'TATACAATTA'}\n",
        "DistanceProblem3_1 = DistanceMatrix(SeqDictProblem3_1)\n",
        "newickStringProblem3_1 = ConstructPhylogeneticTree(DistanceProblem3_1)\n",
        "print(newickStringProblem3_1)"
      ],
      "metadata": {
        "colab": {
          "base_uri": "https://localhost:8080/"
        },
        "id": "tZrN6_LhDYUu",
        "outputId": "36e01a11-5f88-405b-d709-ae9412afc23d"
      },
      "execution_count": 41,
      "outputs": [
        {
          "output_type": "stream",
          "name": "stdout",
          "text": [
            "(seq4,(seq3,(seq1,seq2)));\n"
          ]
        }
      ]
    },
    {
      "cell_type": "markdown",
      "source": [
        "Please run box below to load phylip formated file with real sequence data"
      ],
      "metadata": {
        "id": "w3t5YyoGDk7S"
      }
    },
    {
      "cell_type": "code",
      "source": [
        "import os.path\n",
        "# Load the phylip file\n",
        "DATA_FILE_GITHUB = \"https://raw.githubusercontent.com/boydvcu/BNFO301_2023/main/NADH2_Shark.phy\"\n",
        "DEFAULT_FILE_NAME = 'NADH2_Shark.phy'\n",
        "\n",
        "fileName = DEFAULT_FILE_NAME\n",
        "#Does the file exists locally, if not get it from the github\n",
        "if not os.path.exists(fileName):\n",
        "  #Load the file from Github to the local folder\n",
        "  !wget --no-check-certificate --content-disposition $DATA_FILE_GITHUB\n",
        "\n",
        "print(\"Reading file:\", fileName)\n",
        "\n",
        "# Read in the string from the file\n",
        "with open(fileName, \"r\") as myfile:\n",
        "    file_input = myfile.read()"
      ],
      "metadata": {
        "colab": {
          "base_uri": "https://localhost:8080/"
        },
        "id": "CdLAdEtxDll5",
        "outputId": "ee69974b-1f47-474f-8d02-dee876662e51"
      },
      "execution_count": 23,
      "outputs": [
        {
          "output_type": "stream",
          "name": "stdout",
          "text": [
            "--2024-03-28 16:52:10--  https://raw.githubusercontent.com/boydvcu/BNFO301_2023/main/NADH2_Shark.phy\n",
            "Resolving raw.githubusercontent.com (raw.githubusercontent.com)... 185.199.108.133, 185.199.109.133, 185.199.110.133, ...\n",
            "Connecting to raw.githubusercontent.com (raw.githubusercontent.com)|185.199.108.133|:443... connected.\n",
            "HTTP request sent, awaiting response... 200 OK\n",
            "Length: 32765 (32K) [text/plain]\n",
            "Saving to: ‘NADH2_Shark.phy’\n",
            "\n",
            "\rNADH2_Shark.phy       0%[                    ]       0  --.-KB/s               \rNADH2_Shark.phy     100%[===================>]  32.00K  --.-KB/s    in 0.002s  \n",
            "\n",
            "2024-03-28 16:52:10 (14.5 MB/s) - ‘NADH2_Shark.phy’ saved [32765/32765]\n",
            "\n",
            "Reading file: NADH2_Shark.phy\n"
          ]
        }
      ]
    },
    {
      "cell_type": "markdown",
      "source": [
        "Problem 3.2. Create a function to read in sequence data in phylip format.  Relaxed phylip is a commonly used file format in phylogenetics.  Here you will find sequence name - sequence pairs on each line."
      ],
      "metadata": {
        "id": "Q_a43l4VE0R0"
      }
    },
    {
      "cell_type": "code",
      "source": [
        "#####################\n",
        "#\n",
        "#create a definition called LoadPhylip that will load the real data and create a ditionary of sequence name-sequence key-pairs\n",
        "#\n",
        "#####################\n",
        "def LoadPhylip(filepath):\n",
        "  myDict={}\n",
        "  with open (filepath, 'r') as infile:\n",
        "    for line in infile:\n",
        "      NnS=line.split()\n",
        "      myDict[NnS[0]]=NnS[1]\n",
        "  return(myDict)\n",
        "\n",
        "\n",
        "\n",
        "\n",
        "\n",
        "#####################\n",
        "#\n",
        "#call your definition to build the dictionary\n",
        "#\n",
        "#####################\n",
        "real_sequences = LoadPhylip(DEFAULT_FILE_NAME)\n"
      ],
      "metadata": {
        "id": "xjQJiSRgE5fR"
      },
      "execution_count": 38,
      "outputs": []
    },
    {
      "cell_type": "markdown",
      "source": [
        "Problem 3.3. Use existing functions to infer a phylogenetic tree using the real data obtained from the phylip formated file."
      ],
      "metadata": {
        "id": "Q1twHtN2GX5k"
      }
    },
    {
      "cell_type": "code",
      "source": [
        "#####################\n",
        "#\n",
        "#use your functions to infer a phylogenetic tree given the data provided in the phylip file\n",
        "#\n",
        "#####################\n",
        "ConstructPhylogeneticTree(DistanceMatrix(LoadPhylip(DEFAULT_FILE_NAME)))\n",
        "\n",
        "\n",
        "\n",
        "\n",
        "\n"
      ],
      "metadata": {
        "colab": {
          "base_uri": "https://localhost:8080/",
          "height": 53
        },
        "id": "g_0mHTg2GbJ_",
        "outputId": "1060168f-fd4d-4ee6-e002-5a3b76034923"
      },
      "execution_count": 43,
      "outputs": [
        {
          "output_type": "execute_result",
          "data": {
            "text/plain": [
              "'(U91426.1,(((KF927894.1,JQ519166.1),KF927984.1),((JQ518749.1,KF927801.1),(((JQ519067.1,((JQ519064.1,JQ518745.1),JQ518747.1)),(JQ519066.1,JQ518744.1)),((JQ518743.1,(JQ518751.1,(((JQ519168.1,JQ518741.1),JQ518742.1),KF679782.1))),(((JQ518748.1,(JQ519010.1,((JQ519020.1,(JQ519019.1,((JQ519025.1,JQ519011.1),(KF111729.1,KF928002.1)))),JQ519048.1))),(KF927997.1,KF927998.1)),(JQ518989.1,JQ519055.1)))))));'"
            ],
            "application/vnd.google.colaboratory.intrinsic+json": {
              "type": "string"
            }
          },
          "metadata": {},
          "execution_count": 43
        }
      ]
    },
    {
      "cell_type": "markdown",
      "source": [
        "Problem 3.4. View tree and answer questions.\n",
        "\n",
        "*View Tree*. I recomend viewing your tree using an NCBI tool here linked below.  Use the drop down menu on the right hand side to select \"Tools/Layout/Slanted Cladogram\".  On the left had side is a search box that will allow you to search tips labels.\n",
        "\n",
        "https://www.ncbi.nlm.nih.gov/projects/treeview/tv.html?appname=ncbi_tviewer&renderer=radial&openuploaddialog\n",
        "\n",
        "Alternatively, you may use R to view your tree.  The package \"APE\" will allow you to read, root, and view the tree.  \n",
        "\n",
        "You will find that the current ordering places tip U91426, so your tree does not require rooting.  \n",
        "\n",
        "The tip labels in this tree are NCBI genbank identifiers.  You can visit https://www.ncbi.nlm.nih.gov/ and look up the genus and species associated with each tip label.  \n",
        "\n",
        "\n",
        "*Question 1*. The tip labeled KF679782, represents a sample from *Rhincodon typus*.  Which tip or tips are most closely related to *Rhincodon typus* in your phylogenetic tree?  Please provide your response using the genus and species associated with the genbank identifier.  \n",
        "\n",
        "*Question 2*. Do you believe the close association between *R. typus* and its closest neighbors in your tree represent the true evolutionary relationship of these species or an erroneus association?  Please explain your answer.\n",
        "\n",
        "You can use the code space below to respond, simply use \"#\" to prevent the interpreter from compling your answer as code.\n",
        "\n"
      ],
      "metadata": {
        "id": "yhfUuMA4AM9b"
      }
    },
    {
      "cell_type": "code",
      "source": [
        "#((JQ518743.1,(JQ518751.1,(((JQ519168.1,JQ518741.1),JQ518742.1),KF679782.1)))\n",
        "# In this tree, Rhincodon typus is most closely related to Nebrius ferrugineus, followed by Ginglymostoma cirratum &  Ginglymostoma cf. cirratum\n",
        "#\n",
        "# Though determining phylogenetic trees based off of p-values can be error prone, I believe this tree represents the true evolutionary relationship.\n",
        "# I believe this because ‘Ginglymostoma cirratum’ &  ‘Ginglymostoma cf. cirratum’, the closest two neighbors, share a genus, ‘Nebrius ferrugineus’ shares the Family Ginglymostomatidae with them,\n",
        "# and all four of them are members of the order Orectolobiformes. This tracks with the order of nodes that we see in the tree.\n",
        "#\n"
      ],
      "metadata": {
        "id": "xK4N1VjgEfYF"
      },
      "execution_count": null,
      "outputs": []
    }
  ]
}