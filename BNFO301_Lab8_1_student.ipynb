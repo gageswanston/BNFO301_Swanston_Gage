{
  "nbformat": 4,
  "nbformat_minor": 0,
  "metadata": {
    "colab": {
      "provenance": [],
      "include_colab_link": true
    },
    "kernelspec": {
      "name": "python3",
      "display_name": "Python 3"
    },
    "language_info": {
      "name": "python"
    }
  },
  "cells": [
    {
      "cell_type": "markdown",
      "metadata": {
        "id": "view-in-github",
        "colab_type": "text"
      },
      "source": [
        "<a href=\"https://colab.research.google.com/github/gageswanston/BNFO301_Swanston_Gage/blob/main/BNFO301_Lab8_1_student.ipynb\" target=\"_parent\"><img src=\"https://colab.research.google.com/assets/colab-badge.svg\" alt=\"Open In Colab\"/></a>"
      ]
    },
    {
      "cell_type": "markdown",
      "source": [
        "**LAB 8.1 Binding sites in genomes**\n",
        "\n",
        "Crtical regulation of biological functions occurs through binding of genomic DNA by proteins.  For example, in animals the protein HIF-1 binds many sites genome under hypoxic conditions.  The binding of HIF-1 regulates many cellular processes, including ecdysis in insects and response to heart-attack in humans.  Some protein binding sites can be complex, even discontiguous.  Many software applications have been developed to both identify novel candidate binding sites or search for known binding sites.  We will examine the latter today.  \n",
        "\n",
        "Simply finding a match to a binding site does not necessarily imply that the site is used by the protein.  For example, you may want to examine the frequency at which a search pattern occurs using simulations or search for landmarks that are associated with a 'real' binding site.\n",
        "\n",
        "This lab is builds on simple concepts you have used previously in 201 and 301, and provides you with code that you can adapt to use in group project 2.\n",
        "\n",
        "Total points 10.\n",
        "\n",
        "Problem 1.  Create a defintion to find all matches for the RNA polymerase binding site in a sequence and examine base frequences for sites 2-4 within the binding site. 4 points\n",
        "\n",
        "Problem 2.  Determine frequencies of A, T, C, and G in the sequence provided. 1 points\n",
        "\n",
        "Problem 3.  Simulate a sequence of equal length to the sequence provided, using the observed base frequencies. 4 points\n",
        "\n",
        "Problem 4.  Examine base frequences within RNA polymerase binding sites found in the simulated sequence. 1 points\n",
        "\n",
        "When completing this lab, you will be using packages numpy and re.  You will be introduced to relevent tools in numpy during the lab."
      ],
      "metadata": {
        "id": "fvx01nB1AJ-t"
      }
    },
    {
      "cell_type": "code",
      "execution_count": 8,
      "metadata": {
        "id": "68J2agBKAJE7"
      },
      "outputs": [],
      "source": [
        "#please run this box to load required packages and make the example sequence available for analysis\n",
        "import numpy as np\n",
        "import re\n",
        "ProvidedSequence = \"TATAATGTCAGTCAGTCAGTCAGTCATATAATGTCAGTCAGTCAGTCAGTCATATAATGTCAGTCAGTCAGTCAGTCATATAATGTCAGTCAGTCAGTCAGTCATATAATGTCAGTCAGTCAGTCAGTCATATAATGTCAGTCAGTCAGTCAGTCATATAATGTCAGTCAGTCAGTCAGTCATATAATGTCAGTCAGTCAGTCAGTCATATAATGTCAGTCAGTCAGTCAGTCATATAATGTCAGTCAGTCAGTCAGTCATAGGGTGTCAGTCAGTCAGTCAGTCATAGGGTGTCAGTCAGTCAGTCAGTCATACCCTGTCAGTCAGTCAGTCAGTCATACCCTGTCAGTCAGTCAGTCAGTCATAATTTGTCAGTCAGTCAGTCAGTCATAATTTGTCAGTCAGTCAGTCAGTCA\"\n"
      ]
    },
    {
      "cell_type": "markdown",
      "source": [
        "**Problem 1**\n",
        "\n",
        "The pribnow box binding box, 'TATAAT' is located ~10 base pairs upstream of the translation initiation site; this is where RNA polymerase binds. In this example, the first two and last sites in the box are conserved in the DNA sequence provided. The remaining sites in the box vary, but a biased towards 'TAA'. In this problem you will create definition that searches for the pribnow box and examins base frequences within the pribnow box. You should do this by creating a regex pattern that matches the binding motif, but allows for index 2-4 to vary between A, T, C and G"
      ],
      "metadata": {
        "id": "CDAWxXstCj2x"
      }
    },
    {
      "cell_type": "code",
      "source": [
        "########################################\n",
        "#\n",
        "# Create a definition that finds TATAAT matches within the data provided in box 1\n",
        "# Your definition should print the total number of matches and the frequency of each base at each index in the box\n",
        "#\n",
        "#########################################\n",
        "def printPribnowSummary(sequenceData):\n",
        "  pattern='TA[ATCG]{3}T'\n",
        "  seqList=[]\n",
        "  count=0\n",
        "  for x in re.findall(pattern, sequenceData):\n",
        "    seqList.append(x)\n",
        "    count=count+1\n",
        "  for i in range(len(seqList[0])):\n",
        "    seqDict={'A':0,'T':0,'C':0,'G':0}\n",
        "    for j in seqList:\n",
        "      base=j[i]\n",
        "      seqDict[base]+=1\n",
        "    for k,v in seqDict.items():\n",
        "      print(k, v/count)\n",
        "    print('\\n')\n",
        "\n",
        "\n",
        "\n",
        "\n",
        "\n",
        "\n",
        "\n",
        "\n",
        "\n",
        "########################################\n",
        "#\n",
        "#implement your defintion using the real data provided\n",
        "#\n",
        "#########################################\n",
        "\n",
        "printPribnowSummary(ProvidedSequence)"
      ],
      "metadata": {
        "colab": {
          "base_uri": "https://localhost:8080/"
        },
        "id": "eL1dNxy1DGQ0",
        "outputId": "8f49e64e-c39a-4106-a221-1ccec2f2b571"
      },
      "execution_count": 14,
      "outputs": [
        {
          "output_type": "stream",
          "name": "stdout",
          "text": [
            "A 0.0\n",
            "T 1.0\n",
            "C 0.0\n",
            "G 0.0\n",
            "\n",
            "\n",
            "A 1.0\n",
            "T 0.0\n",
            "C 0.0\n",
            "G 0.0\n",
            "\n",
            "\n",
            "A 0.125\n",
            "T 0.625\n",
            "C 0.125\n",
            "G 0.125\n",
            "\n",
            "\n",
            "A 0.625\n",
            "T 0.125\n",
            "C 0.125\n",
            "G 0.125\n",
            "\n",
            "\n",
            "A 0.625\n",
            "T 0.125\n",
            "C 0.125\n",
            "G 0.125\n",
            "\n",
            "\n",
            "A 0.0\n",
            "T 1.0\n",
            "C 0.0\n",
            "G 0.0\n",
            "\n",
            "\n"
          ]
        }
      ]
    },
    {
      "cell_type": "markdown",
      "source": [
        "**Problem 2**\n",
        "\n",
        "In the next problems we will examine base frequencies in Pribnow box index 2-4 using simulated sequences.  The first step is to create a definition to determine the base frequences in the real sequence."
      ],
      "metadata": {
        "id": "QR23djMFDxbc"
      }
    },
    {
      "cell_type": "code",
      "source": [
        "########################################\n",
        "#\n",
        "# Create a definition that returns the base frequencies from the sequence data given in box 1 as a dictionary\n",
        "# restrict your diction to include only A, T, C, and G (that is, ignore abiguity base codes)\n",
        "#\n",
        "#########################################\n",
        "def calculateFraction(genome):\n",
        "  baseDict={'A':0,'T':0,'G':0,'C':0}\n",
        "  for i in genome:\n",
        "    baseDict[i]+=1\n",
        "  for i in baseDict.keys():\n",
        "    baseDict[i] = baseDict[i]/len(genome)\n",
        "  return baseDict\n",
        "\n",
        "\n",
        "\n",
        "\n",
        "\n",
        "\n",
        "\n",
        "\n",
        "\n",
        "########################################\n",
        "#\n",
        "# test your definition using the \"ProvidedSequence\"\n",
        "#\n",
        "#########################################\n",
        "baseContent = calculateFraction(ProvidedSequence)\n",
        "print(baseContent)"
      ],
      "metadata": {
        "colab": {
          "base_uri": "https://localhost:8080/"
        },
        "id": "nXRKivczErZt",
        "outputId": "54513b9a-a9c5-4a16-dbc6-260547bc1ab3"
      },
      "execution_count": 22,
      "outputs": [
        {
          "output_type": "stream",
          "name": "stdout",
          "text": [
            "{'A': 0.28365384615384615, 'T': 0.30288461538461536, 'G': 0.20673076923076922, 'C': 0.20673076923076922}\n"
          ]
        }
      ]
    },
    {
      "cell_type": "markdown",
      "source": [
        "**Problem 3**\n",
        "\n",
        "Now let's simulate a sequence of equal length to the sequence provided, with similar base frquencies.  You will need to use functions available in the numpy package."
      ],
      "metadata": {
        "id": "JwyTbxkSE9vh"
      }
    },
    {
      "cell_type": "code",
      "source": [
        "########################################\n",
        "#\n",
        "# create a definition to simulate sequence data with base frequencies similar to the observed data\n",
        "# your defintion should return the simulated sequence\n",
        "#\n",
        "#########################################\n",
        "def simulateGenome(genome):\n",
        "  bf=calculateFraction(genome)\n",
        "  genomeLen=len(genome)\n",
        "  States=[]\n",
        "  baseFreqList=[]\n",
        "  for k,v in bf.items():\n",
        "    States.append(k)\n",
        "    baseFreqList.append(v)\n",
        "\n",
        "  simSeq=np.random.choice(States,genomeLen,p=baseFreqList)\n",
        "  return ''.join(simSeq)\n",
        "\n",
        "\n",
        "\n",
        "\n",
        "\n",
        "\n",
        "\n",
        "\n",
        "########################################\n",
        "#\n",
        "# test your definition and calculate base frequencies from the simulated data\n",
        "# note: the base fequeces may differ from the real data\n",
        "#\n",
        "#########################################\n",
        "newGenome = simulateGenome(ProvidedSequence)\n",
        "SimGenomebaseContent = calculateFraction(newGenome)\n",
        "print (SimGenomebaseContent)"
      ],
      "metadata": {
        "colab": {
          "base_uri": "https://localhost:8080/"
        },
        "id": "yaCPL0tqFPuj",
        "outputId": "40d7b9df-9e9b-4bf0-f6ca-1b314a700dd0"
      },
      "execution_count": 59,
      "outputs": [
        {
          "output_type": "stream",
          "name": "stdout",
          "text": [
            "{'A': 0.2980769230769231, 'T': 0.29086538461538464, 'G': 0.1875, 'C': 0.22355769230769232}\n"
          ]
        }
      ]
    },
    {
      "cell_type": "markdown",
      "source": [
        "**Problem 4**\n",
        "\n",
        "Finally, use your definitions from problems 1 and 3 to examine the pribnow box binding box in your simulated data."
      ],
      "metadata": {
        "id": "QHbUl4DQGcDf"
      }
    },
    {
      "cell_type": "code",
      "source": [
        "#############################################\n",
        "#\n",
        "# no need to create any new definitions here, simply simulate a seqeunce and calculate base ferquences for each index in the binding box\n",
        "#\n",
        "#############################################\n",
        "printPribnowSummary(simulateGenome(ProvidedSequence))\n",
        "\n",
        "\n",
        "\n",
        "\n",
        "\n",
        "\n"
      ],
      "metadata": {
        "colab": {
          "base_uri": "https://localhost:8080/"
        },
        "id": "J-fTuJXNG4h8",
        "outputId": "7e5fcbe4-399b-4dd6-bc94-99396d6ee65a"
      },
      "execution_count": 75,
      "outputs": [
        {
          "output_type": "stream",
          "name": "stdout",
          "text": [
            "A 0.0\n",
            "T 1.0\n",
            "C 0.0\n",
            "G 0.0\n",
            "\n",
            "\n",
            "A 1.0\n",
            "T 0.0\n",
            "C 0.0\n",
            "G 0.0\n",
            "\n",
            "\n",
            "A 0.36363636363636365\n",
            "T 0.09090909090909091\n",
            "C 0.18181818181818182\n",
            "G 0.36363636363636365\n",
            "\n",
            "\n",
            "A 0.09090909090909091\n",
            "T 0.5454545454545454\n",
            "C 0.18181818181818182\n",
            "G 0.18181818181818182\n",
            "\n",
            "\n",
            "A 0.2727272727272727\n",
            "T 0.2727272727272727\n",
            "C 0.2727272727272727\n",
            "G 0.18181818181818182\n",
            "\n",
            "\n",
            "A 0.0\n",
            "T 1.0\n",
            "C 0.0\n",
            "G 0.0\n",
            "\n",
            "\n"
          ]
        }
      ]
    },
    {
      "cell_type": "markdown",
      "source": [
        "Next week will expand on these concepts and you will also have time to ask questions about group project 2.  \n",
        "\n",
        "Have a good weekend!"
      ],
      "metadata": {
        "id": "Nr9nlOt7KAiL"
      }
    }
  ]
}