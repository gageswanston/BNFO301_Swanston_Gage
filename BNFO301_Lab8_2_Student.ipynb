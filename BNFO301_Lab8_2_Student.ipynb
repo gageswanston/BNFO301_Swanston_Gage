{
  "nbformat": 4,
  "nbformat_minor": 0,
  "metadata": {
    "colab": {
      "provenance": [],
      "include_colab_link": true
    },
    "kernelspec": {
      "name": "python3",
      "display_name": "Python 3"
    },
    "language_info": {
      "name": "python"
    }
  },
  "cells": [
    {
      "cell_type": "markdown",
      "metadata": {
        "id": "view-in-github",
        "colab_type": "text"
      },
      "source": [
        "<a href=\"https://colab.research.google.com/github/gageswanston/BNFO301_Swanston_Gage/blob/main/BNFO301_Lab8_2_Student.ipynb\" target=\"_parent\"><img src=\"https://colab.research.google.com/assets/colab-badge.svg\" alt=\"Open In Colab\"/></a>"
      ]
    },
    {
      "cell_type": "markdown",
      "source": [
        "Lab 8.2. Binding sites in genomes continued.\n",
        "\n",
        "**This weekend is BNFOthon and I encourage you to participate in BNFOthon.  To faciliate your participation, I have limited this lab to two questions and extend the submission deadline to Monday.**\n",
        "\n",
        "Last week we learned how to identify a motif, the RNA polymerase binding site \"TATAAT\", within a genome, given an idealized logo.  We also learned how to simulated a genome with similar characteristics to our 'real' genome.  This week will continue the excercise by implementing our simulation within a loop and sumarizing base frequences, both in the overall genome and within the RNA polymerase bidning motif, from multiple simulations.\n",
        "\n",
        "As I noted in our lecture last week, we can apply many of the skills covered in lab 8 in motif discovery.  I encourage you to think about this when working on group project 2, as many common motifs were originally identifed using similar tools.\n",
        "\n",
        "After we complete the two questions below, there will be time for each group to meet with the instructor and recieve personalized feedback on your project 2 progress.  Please come to lab ready with questions or elements where you need help!\n",
        "\n",
        "This lab is worth 10 points.\n",
        "\n",
        "Question 1. 4 points.\n",
        "\n",
        "Question 2. 6 points.\n"
      ],
      "metadata": {
        "id": "mkwP0IXdsMaQ"
      }
    },
    {
      "cell_type": "markdown",
      "source": [
        "Please run this box to load data and definitions from last week"
      ],
      "metadata": {
        "id": "_gtDnjX6sScm"
      }
    },
    {
      "cell_type": "code",
      "execution_count": 2,
      "metadata": {
        "id": "dlKV2tlOrHIi"
      },
      "outputs": [],
      "source": [
        "import numpy as np\n",
        "import re\n",
        "ProvidedSequence = \"TATAATGTCAGTCAGTCAGTCAGTCATATAATGTCAGTCAGTCAGTCAGTCATATAATGTCAGTCAGTCAGTCAGTCATATAATGTCAGTCAGTCAGTCAGTCATATAATGTCAGTCAGTCAGTCAGTCATATAATGTCAGTCAGTCAGTCAGTCATATAATGTCAGTCAGTCAGTCAGTCATATAATGTCAGTCAGTCAGTCAGTCATATAATGTCAGTCAGTCAGTCAGTCATATAATGTCAGTCAGTCAGTCAGTCATAGGGTGTCAGTCAGTCAGTCAGTCATAGGGTGTCAGTCAGTCAGTCAGTCATACCCTGTCAGTCAGTCAGTCAGTCATACCCTGTCAGTCAGTCAGTCAGTCATAATTTGTCAGTCAGTCAGTCAGTCATAATTTGTCAGTCAGTCAGTCAGTCA\"\n",
        "\n",
        "def genomeBaseFreq(genome):\n",
        "  base_counts = {'A':0,'T':0,'C':0,'G':0}\n",
        "  genome_length = len(genome)\n",
        "  for base in genome:\n",
        "    if base in base_counts:\n",
        "      base_counts[base] += 1\n",
        "  fractions = {base: base_counts[base]/genome_length for base in base_counts}\n",
        "  return fractions\n",
        "\n",
        "def simulateGenome(genome):\n",
        "  baseDict = genomeBaseFreq(genome)\n",
        "  genomeLength = len(genome)\n",
        "  states = []\n",
        "  baseFreq = []\n",
        "  for k,v in baseDict.items():\n",
        "    states.append(k)\n",
        "    baseFreq.append(v)\n",
        "  draft_seq = np.random.choice(states, genomeLength, p=baseFreq)\n",
        "  return ''.join(draft_seq)\n"
      ]
    },
    {
      "cell_type": "markdown",
      "source": [
        "Problem 1. Multiple simulations.\n",
        "\n",
        "Create a definition to implement the \"simulateGenome\" function and generate 100 simulated sequences.  Your definition should print the average base frequencies of A, T, C, and G from all siulated sequences."
      ],
      "metadata": {
        "id": "uo7uPmaSsP4Y"
      }
    },
    {
      "cell_type": "code",
      "source": [
        "#############################################\n",
        "#\n",
        "# create a definition to implement the definition \"simGenome\" and generate 100 simulated sequences\n",
        "# next, calculate and print to screen the mean base frequencies\n",
        "#\n",
        "#############################################\n",
        "\n",
        "def multipleSims(observedgenome):\n",
        "  fullDict={'A':0,'T':0,'C':0,'G':0}\n",
        "  for i in range(100):\n",
        "    x=genomeBaseFreq(simulateGenome(observedgenome))\n",
        "    for key in x:\n",
        "      fullDict[key]=fullDict[key]+x[key]\n",
        "  for key in fullDict:\n",
        "    fullDict[key]=fullDict[key]/100\n",
        "  return(fullDict)\n",
        "\n",
        "\n",
        "\n",
        "\n",
        "\n",
        "\n",
        "\n",
        "\n",
        "\n",
        "\n",
        "########################################\n",
        "#\n",
        "# test your definition\n",
        "# note: this is a simulation, your results may differ from the real data or the answer in the key\n",
        "#\n",
        "#########################################\n",
        "\n",
        "multipleSims(ProvidedSequence)"
      ],
      "metadata": {
        "colab": {
          "base_uri": "https://localhost:8080/"
        },
        "id": "2AT4QOlltkyR",
        "outputId": "520df78c-313f-4faa-be70-09dc4201e2de"
      },
      "execution_count": 3,
      "outputs": [
        {
          "output_type": "execute_result",
          "data": {
            "text/plain": [
              "{'A': 0.28581730769230773,\n",
              " 'T': 0.30115384615384605,\n",
              " 'C': 0.20382211538461537,\n",
              " 'G': 0.20920673076923074}"
            ]
          },
          "metadata": {},
          "execution_count": 3
        }
      ]
    },
    {
      "cell_type": "markdown",
      "source": [
        "Problem 2. Examine the motif within multiple simulations.\n",
        "\n",
        "Create a definition to implement the \"simulateGenome\" function and generate 100 simulated sequences.  Within each simulation identify the RNA polymerase binding motif.  Your definition print to screen to elements.  First, the mean number of motifs discovered in the simulated genomes.  Second, the mean base frequencies at each index in the motif."
      ],
      "metadata": {
        "id": "WyiCSauiwsrQ"
      }
    },
    {
      "cell_type": "code",
      "source": [
        "#############################################\n",
        "#\n",
        "# create a definition to implement the definition \"simulateGenome\" and generate 100 simulated sequences,\n",
        "# next, calculate and print to screen the mean number of motifs detected in the simulations\n",
        "# next, calculate and print to screen the mean base frequency for each index in the pribnow box\n",
        "# recall your pattern for the RNA polymerase binding site is 'TA[TACG]{3}T'\n",
        "#\n",
        "#############################################\n",
        "\n",
        "def simSite(observedgenome):\n",
        "  numberOfMotifs=0\n",
        "  nestedDict={}\n",
        "  pattern='TA[ATCG]{3}T'\n",
        "  for j in range(6):\n",
        "    nestedDict[j]={'A':0,'T':0,'C':0,'G':0}\n",
        "  #print(nestedDict)\n",
        "  for i in range(100):\n",
        "    sim=simulateGenome(observedgenome)\n",
        "    mylist=[]\n",
        "    for myMatch in re.findall(pattern, sim):\n",
        "      mylist.append(myMatch)\n",
        "      for j in range(len(myMatch)):\n",
        "        (nestedDict[j][myMatch[j]])=nestedDict[j][myMatch[j]]+1\n",
        "\n",
        "    numberOfMotifs=numberOfMotifs+len(mylist)\n",
        "\n",
        "  for i in range(len(nestedDict)):\n",
        "    for j in 'ATCG':\n",
        "      nestedDict[i][j]=(nestedDict[i][j]/100)\n",
        "  numberOfMotifs=numberOfMotifs/100\n",
        "  print(f'the mean number of motifs detected in the simulations is: {numberOfMotifs}')\n",
        "  for i in nestedDict.items():\n",
        "    print(i)\n",
        "\n",
        "\n",
        "\n",
        "\n",
        "\n",
        "\n",
        "\n",
        "\n",
        "\n",
        "########################################\n",
        "#\n",
        "# test your definition\n",
        "# note: this is a simulation, your results may differ from the real data or the answer in the key\n",
        "#\n",
        "#########################################\n",
        "\n",
        "simSite(ProvidedSequence)"
      ],
      "metadata": {
        "colab": {
          "base_uri": "https://localhost:8080/"
        },
        "id": "98Fl16lFyNw1",
        "outputId": "3fa7249c-69c4-42b1-8bc1-adc957505413"
      },
      "execution_count": 13,
      "outputs": [
        {
          "output_type": "stream",
          "name": "stdout",
          "text": [
            "the mean number of motifs detected in the simulations is: 9.71\n",
            "(0, {'A': 0.0, 'T': 9.71, 'C': 0.0, 'G': 0.0})\n",
            "(1, {'A': 9.71, 'T': 0.0, 'C': 0.0, 'G': 0.0})\n",
            "(2, {'A': 2.78, 'T': 2.89, 'C': 1.81, 'G': 2.23})\n",
            "(3, {'A': 2.97, 'T': 2.55, 'C': 2.27, 'G': 1.92})\n",
            "(4, {'A': 2.86, 'T': 2.78, 'C': 1.89, 'G': 2.18})\n",
            "(5, {'A': 0.0, 'T': 9.71, 'C': 0.0, 'G': 0.0})\n"
          ]
        }
      ]
    }
  ]
}